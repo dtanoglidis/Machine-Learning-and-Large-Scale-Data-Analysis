{
 "cells": [
  {
   "cell_type": "markdown",
   "metadata": {},
   "source": [
    "##  Homework 3 - Problem 5 : Bernoulli mixtures for mnist\n",
    "\n",
    "### Student: Dimitrios Tanoglidis\n",
    "\n",
    "First import some packages"
   ]
  },
  {
   "cell_type": "code",
   "execution_count": 1,
   "metadata": {
    "collapsed": true
   },
   "outputs": [],
   "source": [
    "#Import stuff\n",
    "import numpy as np \n",
    "import matplotlib.pyplot as plt\n",
    "%matplotlib inline\n",
    "from matplotlib import rcParams\n",
    "rcParams['font.family'] = 'serif'\n",
    "\n",
    "# Adjust rc parameters to make plots pretty\n",
    "def plot_pretty(dpi=200, fontsize=9):\n",
    "    \n",
    "    import matplotlib.pyplot as plt\n",
    "\n",
    "    plt.rc(\"savefig\", dpi=dpi)       # dpi resolution of saved image files\n",
    "    plt.rc('text', usetex=True)      # use LaTeX to process labels\n",
    "    plt.rc('font', size=fontsize)    # fontsize\n",
    "    plt.rc('xtick', direction='in')  # make axes ticks point inward\n",
    "    plt.rc('ytick', direction='in')\n",
    "    plt.rc('xtick.major', pad=10) \n",
    "    plt.rc('xtick.minor', pad=5)\n",
    "    plt.rc('ytick.major', pad=10) \n",
    "    plt.rc('ytick.minor', pad=5)\n",
    "    plt.rc('lines', dotted_pattern = [0.5, 1.1]) # fix dotted lines\n",
    "\n",
    "    return\n",
    "\n",
    "plot_pretty()"
   ]
  },
  {
   "cell_type": "markdown",
   "metadata": {},
   "source": [
    "### Import the MNIST dataset\n",
    "\n",
    "I downloaded the MNIST data set, which is actually consisted  out of a training set ($\\sim 60000$ images) and a test set ($\\sim 10000$ images). \n",
    "\n"
   ]
  },
  {
   "cell_type": "code",
   "execution_count": 2,
   "metadata": {
    "collapsed": false
   },
   "outputs": [
    {
     "name": "stdout",
     "output_type": "stream",
     "text": [
      "(60000, 784)\n",
      "(60000, 1)\n",
      "(10000, 784)\n",
      "(10000, 1)\n"
     ]
    }
   ],
   "source": [
    "data_train = np.float64(np.load(\"/Users/Dimitris/Desktop/Machine_Learning/HW2/train_images.npy\"))\n",
    "data_test = np.float64(np.load(\"/Users/Dimitris/Desktop/Machine_Learning/HW2/test_images.npy\"))\n",
    "labels_train = np.float32(np.load(\"/Users/Dimitris/Desktop/Machine_Learning/HW2/train_labels.npy\"))\n",
    "labels_test = np.float32(np.load(\"/Users/Dimitris/Desktop/Machine_Learning/HW2/test_labels.npy\"))\n",
    "\n",
    "\n",
    "# Print their shapes to see\n",
    "print(np.shape(data_train));print(np.shape(labels_train))\n",
    "# Print their shapes to see\n",
    "print(np.shape(data_test));print(np.shape(labels_test))"
   ]
  },
  {
   "cell_type": "markdown",
   "metadata": {},
   "source": [
    "### Part 1: Warm-up - case M = 1\n",
    "\n",
    "As a warm-up, I will first consider the case with $M = 1$, where there is no need to use the EM algorithm.\n",
    "\n",
    "The training set is consisted of $60000$ data vectors of size 784; each one can be rshaped as a $28 \\times 28$ matrix, representing a handwritten digit. \n",
    "\n",
    "The total likelihood for one data point is:\n",
    "\n",
    "\\begin{equation}\n",
    "L(p) = \\prod_{j=1}^{784} p_j^{x_j}(1 - p_j)^{(1-x_j)}\n",
    "\\end{equation}\n",
    "\n",
    "The ML estimator of each one of the 784 parameters $p_j$, if we assume that we have $n$ observations is (from problem 5):\n",
    "\n",
    "\\begin{equation}\n",
    "\\boxed{\n",
    "\\hat{p}_j = \\frac{1}{n} \\sum_{i=1}^{n} x_{ij}, \\quad j=1,\\dots,784} \n",
    "\\end{equation}\n",
    "\n",
    "Now, we have ten differenct classes (ten different digits). \n",
    "\n",
    "For $\\mathbf{each}$ class:\n",
    "\n",
    "-  Calculate a vector (of length $784$) of the parameter estimates $\\hat{p}_j$.\n",
    "\n",
    "-  Reshape  the parameter vector as an $28 \\times 28$ array and plot as an image.\n",
    "\n",
    "After having the parameter vectors for the ten classes, for each data point from the test set, calculate the (log) likelihood $L(p)$ to belong in any of the ten classes.\n",
    "\n",
    "- Assign the data point to the class that has the maximum likelihood (here we assume equal prior for all classes).\n"
   ]
  },
  {
   "cell_type": "code",
   "execution_count": 10,
   "metadata": {
    "collapsed": false
   },
   "outputs": [],
   "source": [
    "# Binarize data - set anything that is larger than zero equal to one\n",
    "data_train[data_train>0.0] = 1.0\n",
    "data_test[data_test>0.0] = 1.0\n",
    "\n",
    "# Initialize a matrix that contains the parameters p_j \n",
    "# For each of the classes 0, 1, ...., 9\n",
    "\n",
    "p_params = np.zeros([10,784])"
   ]
  },
  {
   "cell_type": "markdown",
   "metadata": {},
   "source": [
    "Let's populate the vectors now..."
   ]
  },
  {
   "cell_type": "code",
   "execution_count": 52,
   "metadata": {
    "collapsed": false
   },
   "outputs": [],
   "source": [
    "for i in range(10):\n",
    "    # Work for each one of the classes 0, 1, ..., 9\n",
    "    i_fl = float(i)\n",
    "    \n",
    "    \n",
    "    for j in range(784):\n",
    "        data_j = data_train[:,j]\n",
    "        #Select those data points belonging to the i-th class\n",
    "        i_sel = (labels_train==i_fl)[:,0]\n",
    "        data_ith_class = data_j[i_sel]\n",
    "        # Calculate the mean - that is parameter p_j\n",
    "        p_params[i,j] = np.mean(data_ith_class)"
   ]
  },
  {
   "cell_type": "markdown",
   "metadata": {},
   "source": [
    "Let's plot the vectors and see the images"
   ]
  },
  {
   "cell_type": "code",
   "execution_count": 57,
   "metadata": {
    "collapsed": false
   },
   "outputs": [
    {
     "data": {
      "image/png": "[encoded data removed]",
      "text/plain": [
       "<Figure size 324x129.6 with 10 Axes>"
      ]
     },
     "metadata": {},
     "output_type": "display_data"
    }
   ],
   "source": [
    "nrows = 2\n",
    "ncols = 5\n",
    "\n",
    "plt.figure(figsize=(ncols*0.9, nrows*0.9))\n",
    "\n",
    "for i in xrange(nrows*ncols):\n",
    "    if (i==3):\n",
    "        plt.title(\"The probability vectors as images - case M=1\")\n",
    "    plt.subplot(nrows, ncols, i+1)\n",
    "    plt.imshow(p_params[i].reshape((28,28)), cmap='gray')\n",
    "    plt.axis('off')\n",
    "    \n",
    "plt.axis('off')\n",
    "plt.show()"
   ]
  },
  {
   "cell_type": "markdown",
   "metadata": {},
   "source": [
    "We see that these probability vectors are somehow the  means of all data points.\n",
    "\n",
    "Let's move on now to the classification part."
   ]
  },
  {
   "cell_type": "code",
   "execution_count": 130,
   "metadata": {
    "collapsed": true
   },
   "outputs": [],
   "source": [
    "# Function that, for a data vector x, calculates the likelihood of each class and assigns\n",
    "# it to the class with the maximum likelihood\n",
    "\n",
    "def ML_return(x):\n",
    "    \"\"\"\n",
    "    Returns the class with the maximum likelihood\n",
    "    \n",
    "    Input: Vector x\n",
    "    Output : Class (0-9)\n",
    "    \"\"\"\n",
    "    \n",
    "    # Initilize the log-likelihoods of the ten categories\n",
    "    Like = np.zeros(10)\n",
    "    \n",
    "    for i in range(10):\n",
    "        log_p = np.log(p_params[i]+1e-30)\n",
    "        log_p_1 = np.log(1 - p_params[i])\n",
    "        \n",
    "        Like[i] = np.sum(x*log_p + (1.0-x)*log_p_1)\n",
    "        \n",
    "    #Calculate maxlimum likelihood\n",
    "    ML = np.max(Like)\n",
    "    \n",
    "    # Class - > where is the ML\n",
    "    class_is = float(np.where(Like==ML)[0])\n",
    "    \n",
    "    return class_is\n",
    "        "
   ]
  },
  {
   "cell_type": "markdown",
   "metadata": {},
   "source": [
    "Let's predict the labels of the training set now."
   ]
  },
  {
   "cell_type": "code",
   "execution_count": 131,
   "metadata": {
    "collapsed": false
   },
   "outputs": [],
   "source": [
    "Labels_predict = np.zeros(10000)\n",
    "\n",
    "for i in range(10000):\n",
    "    Labels_predict[i] = ML_return(data_test[i])"
   ]
  },
  {
   "cell_type": "markdown",
   "metadata": {},
   "source": [
    "Let's plot some digits together with their predictions..."
   ]
  },
  {
   "cell_type": "code",
   "execution_count": 132,
   "metadata": {
    "collapsed": false
   },
   "outputs": [
    {
     "data": {
      "image/png": "[encoded data removed]",
      "text/plain": [
       "<Figure size 180x360 with 50 Axes>"
      ]
     },
     "metadata": {},
     "output_type": "display_data"
    }
   ],
   "source": [
    "# Eigenvectors are the columnts of the matrix\n",
    "data_test_plot = (data_test)[0:50,:]\n",
    "labels_pred = Labels_predict[0:50]\n",
    "nrows = 10\n",
    "ncols = 5\n",
    "\n",
    "plt.figure(figsize=(ncols*0.5, nrows*0.5))\n",
    "\n",
    "for i in xrange(nrows*ncols):\n",
    "    \n",
    "    plt.subplot(nrows, ncols, i+1)\n",
    "    plt.imshow(data_test_plot[i].reshape((28,28)), cmap='gray')\n",
    "    plt.axis('off')\n",
    "    \n",
    "plt.axis('off')\n",
    "plt.show()"
   ]
  },
  {
   "cell_type": "code",
   "execution_count": 133,
   "metadata": {
    "collapsed": false
   },
   "outputs": [
    {
     "name": "stdout",
     "output_type": "stream",
     "text": [
      "[7. 2. 1. 0. 4. 1. 4. 9. 4. 9. 0. 6. 9. 0. 1. 3. 9. 7. 3. 4. 9. 6. 4. 5.\n",
      " 4. 0. 7. 4. 0. 1. 3. 1. 3. 0. 7. 2. 7. 1. 3. 1. 1. 7. 4. 2. 3. 5. 3. 2.\n",
      " 9. 4.]\n"
     ]
    }
   ],
   "source": [
    "print(labels_pred)"
   ]
  },
  {
   "cell_type": "markdown",
   "metadata": {},
   "source": [
    "We see that some predictions are correct, while some else not. We can use some metrics from scikit learn to check."
   ]
  },
  {
   "cell_type": "code",
   "execution_count": 134,
   "metadata": {
    "collapsed": false
   },
   "outputs": [
    {
     "name": "stdout",
     "output_type": "stream",
     "text": [
      "0.8419\n"
     ]
    }
   ],
   "source": [
    "from sklearn.metrics import accuracy_score\n",
    "\n",
    "# Let's print the accuracy score\n",
    "print(accuracy_score(labels_test[:,0],Labels_predict))"
   ]
  },
  {
   "cell_type": "markdown",
   "metadata": {},
   "source": [
    "We see that with this simple classification we have $\\sim 84 \\%$ accuracy. Not bad, but let's see if we can improve that score when adding more clusters (cases with M=3,5)."
   ]
  },
  {
   "cell_type": "code",
   "execution_count": null,
   "metadata": {
    "collapsed": true
   },
   "outputs": [],
   "source": []
  },
  {
   "cell_type": "code",
   "execution_count": null,
   "metadata": {
    "collapsed": true
   },
   "outputs": [],
   "source": []
  },
  {
   "cell_type": "code",
   "execution_count": null,
   "metadata": {
    "collapsed": true
   },
   "outputs": [],
   "source": []
  },
  {
   "cell_type": "code",
   "execution_count": null,
   "metadata": {
    "collapsed": true
   },
   "outputs": [],
   "source": []
  },
  {
   "cell_type": "code",
   "execution_count": null,
   "metadata": {
    "collapsed": true
   },
   "outputs": [],
   "source": []
  },
  {
   "cell_type": "code",
   "execution_count": null,
   "metadata": {
    "collapsed": true
   },
   "outputs": [],
   "source": []
  }
 ],
 "metadata": {
  "kernelspec": {
   "display_name": "Python 2",
   "language": "python",
   "name": "python2"
  },
  "language_info": {
   "codemirror_mode": {
    "name": "ipython",
    "version": 2
   },
   "file_extension": ".py",
   "mimetype": "text/x-python",
   "name": "python",
   "nbconvert_exporter": "python",
   "pygments_lexer": "ipython2",
   "version": "2.7.13"
  }
 },
 "nbformat": 4,
 "nbformat_minor": 2
}
